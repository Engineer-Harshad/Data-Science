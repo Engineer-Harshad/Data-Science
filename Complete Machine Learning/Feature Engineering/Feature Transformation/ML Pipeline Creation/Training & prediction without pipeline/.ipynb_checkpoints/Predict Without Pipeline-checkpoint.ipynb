{
 "cells": [
  {
   "cell_type": "code",
   "execution_count": 1,
   "id": "d2a421b8",
   "metadata": {},
   "outputs": [],
   "source": [
    "import pickle \n",
    "import numpy as np"
   ]
  },
  {
   "cell_type": "code",
   "execution_count": 2,
   "id": "8455e353",
   "metadata": {},
   "outputs": [],
   "source": [
    "ohe = pickle.load(open('ohe.pkl', 'rb'))\n",
    "oe = pickle.load(open('oe.pkl', 'rb'))\n",
    "clf = pickle.load(open('clf.pkl', 'rb'))"
   ]
  },
  {
   "cell_type": "code",
   "execution_count": 9,
   "id": "76040617",
   "metadata": {},
   "outputs": [],
   "source": [
    "# Assume user input \n",
    "test_in = np.array([10, 'Female', 30.0, 'High'], dtype= object).reshape(1,4)"
   ]
  },
  {
   "cell_type": "code",
   "execution_count": 10,
   "id": "53397f40",
   "metadata": {},
   "outputs": [
    {
     "data": {
      "text/plain": [
       "array([[10, 'Female', 30.0, 'High']], dtype=object)"
      ]
     },
     "execution_count": 10,
     "metadata": {},
     "output_type": "execute_result"
    }
   ],
   "source": [
    "test_in"
   ]
  },
  {
   "cell_type": "code",
   "execution_count": 11,
   "id": "e046bfc8",
   "metadata": {},
   "outputs": [
    {
     "name": "stderr",
     "output_type": "stream",
     "text": [
      "C:\\Users\\dell\\anaconda3\\lib\\site-packages\\sklearn\\base.py:420: UserWarning: X does not have valid feature names, but OneHotEncoder was fitted with feature names\n",
      "  warnings.warn(\n"
     ]
    }
   ],
   "source": [
    "test_in_gender = ohe.transform(test_in[:,1].reshape(1,1))"
   ]
  },
  {
   "cell_type": "code",
   "execution_count": 12,
   "id": "e2927d50",
   "metadata": {},
   "outputs": [
    {
     "data": {
      "text/plain": [
       "array([[1., 0.]])"
      ]
     },
     "execution_count": 12,
     "metadata": {},
     "output_type": "execute_result"
    }
   ],
   "source": [
    "test_in_gender"
   ]
  },
  {
   "cell_type": "code",
   "execution_count": 14,
   "id": "6990d347",
   "metadata": {},
   "outputs": [
    {
     "name": "stderr",
     "output_type": "stream",
     "text": [
      "C:\\Users\\dell\\anaconda3\\lib\\site-packages\\sklearn\\base.py:420: UserWarning: X does not have valid feature names, but OrdinalEncoder was fitted with feature names\n",
      "  warnings.warn(\n"
     ]
    }
   ],
   "source": [
    "test_in_parentSupport = oe.transform(test_in[:,-1].reshape(1,1))"
   ]
  },
  {
   "cell_type": "code",
   "execution_count": 15,
   "id": "e29826e6",
   "metadata": {},
   "outputs": [
    {
     "data": {
      "text/plain": [
       "array([[2.]])"
      ]
     },
     "execution_count": 15,
     "metadata": {},
     "output_type": "execute_result"
    }
   ],
   "source": [
    "test_in_parentSupport"
   ]
  },
  {
   "cell_type": "code",
   "execution_count": 17,
   "id": "2b32c30a",
   "metadata": {},
   "outputs": [],
   "source": [
    "test_in_studyhrs = test_in[:, 2].reshape(1,1)"
   ]
  },
  {
   "cell_type": "code",
   "execution_count": 26,
   "id": "3397000a",
   "metadata": {},
   "outputs": [],
   "source": [
    "test_in_transformed = np.concatenate((test_in[:,[0]],  test_in_gender, test_in_studyhrs, test_in_parentSupport), axis=1)"
   ]
  },
  {
   "cell_type": "code",
   "execution_count": 28,
   "id": "8dbbf7b6",
   "metadata": {},
   "outputs": [
    {
     "data": {
      "text/plain": [
       "(1, 5)"
      ]
     },
     "execution_count": 28,
     "metadata": {},
     "output_type": "execute_result"
    }
   ],
   "source": [
    "test_in_transformed.shape"
   ]
  },
  {
   "cell_type": "code",
   "execution_count": 29,
   "id": "369d78a7",
   "metadata": {},
   "outputs": [
    {
     "data": {
      "text/plain": [
       "array([88], dtype=int64)"
      ]
     },
     "execution_count": 29,
     "metadata": {},
     "output_type": "execute_result"
    }
   ],
   "source": [
    "clf.predict(test_in_transformed)"
   ]
  }
 ],
 "metadata": {
  "kernelspec": {
   "display_name": "Python 3 (ipykernel)",
   "language": "python",
   "name": "python3"
  },
  "language_info": {
   "codemirror_mode": {
    "name": "ipython",
    "version": 3
   },
   "file_extension": ".py",
   "mimetype": "text/x-python",
   "name": "python",
   "nbconvert_exporter": "python",
   "pygments_lexer": "ipython3",
   "version": "3.10.9"
  }
 },
 "nbformat": 4,
 "nbformat_minor": 5
}
