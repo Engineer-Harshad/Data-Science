{
 "cells": [
  {
   "cell_type": "code",
   "execution_count": 1,
   "id": "e9c9ce4a",
   "metadata": {},
   "outputs": [
    {
     "name": "stdout",
     "output_type": "stream",
     "text": [
      "Enter age: 20\n",
      "Enter Income: 30000\n",
      "Enter education level: 2\n",
      "The user is likely to purchase a Smartphone\n"
     ]
    }
   ],
   "source": [
    "'''You have been tasked with creating a decision tree model to predict whether a person is likely to purchase a new\n",
    "smartphone based on their age, income, and educational level. You are provided with a dataset containing these attributes\n",
    "and the target variable indicating whether the person made a purchase or not.''' \n",
    "import numpy as np\n",
    "from sklearn.model_selection import train_test_split\n",
    "from sklearn.tree import DecisionTreeClassifier\n",
    "from sklearn.metrics import accuracy_score\n",
    "\n",
    "# step 2\n",
    "x = np.array([[25,50000,3],[30,50000,2],[20,10000,1],[50,60000,3],\n",
    "              [45,90000,3],[29,80000,2],[48,50000,3],[22,20000,1],[30,70000,2]])\n",
    "y = np.array([0,1,1,0,1,0,1,0,1])\n",
    "\n",
    "#step 3\n",
    "x_train,x_test,y_train,y_test = train_test_split(x,y, test_size = 0.2, random_state=42)\n",
    "\n",
    "#step 6\n",
    "model = DecisionTreeClassifier()\n",
    "\n",
    "#step 7\n",
    "model.fit(x_train, y_train)\n",
    "\n",
    "y_pred = model.predict(x_test)\n",
    "\n",
    "accuracy = accuracy_score(y_test, y_pred)\n",
    "# print(accuracy)\n",
    "\n",
    "# user input testing\n",
    "age = float(input(\"Enter age: \"))\n",
    "income = float(input(\"Enter Income: \"))\n",
    "education = float(input(\"Enter education level: \"))\n",
    "user_input = np.array([[age, income, education]])\n",
    "prediction = model.predict(user_input)\n",
    "if prediction[0]==1:\n",
    "    print(\"The user is likely to purchase a Smartphone\")\n",
    "else:\n",
    "    print(\"The user is unlikely to purchase a Smartphone\")"
   ]
  },
  {
   "cell_type": "code",
   "execution_count": null,
   "id": "3a4dde07",
   "metadata": {},
   "outputs": [],
   "source": []
  }
 ],
 "metadata": {
  "kernelspec": {
   "display_name": "Python 3 (ipykernel)",
   "language": "python",
   "name": "python3"
  },
  "language_info": {
   "codemirror_mode": {
    "name": "ipython",
    "version": 3
   },
   "file_extension": ".py",
   "mimetype": "text/x-python",
   "name": "python",
   "nbconvert_exporter": "python",
   "pygments_lexer": "ipython3",
   "version": "3.10.9"
  }
 },
 "nbformat": 4,
 "nbformat_minor": 5
}
