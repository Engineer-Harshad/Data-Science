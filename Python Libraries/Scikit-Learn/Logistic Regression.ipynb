{
 "cells": [
  {
   "cell_type": "code",
   "execution_count": 5,
   "id": "cf657c43",
   "metadata": {},
   "outputs": [
    {
     "name": "stdout",
     "output_type": "stream",
     "text": [
      "model Accuracy: 1.0\n",
      "Enter customer age: 30\n",
      "Enter time spent on website: 40\n",
      "Enter 1 if added to cart,else enter 0: 1\n",
      "The customer is likely to purchase\n"
     ]
    }
   ],
   "source": [
    "'''In an e-commerce company, management wants to predict whether a customer \n",
    "will purchase a high-value product based on their age, time spent on the website,\n",
    "and whether they have added items to their carts. The goal is to optimize marketing \n",
    "strategies by targeting potential customers more effectively, thereby increasing sales & revenue.''' \n",
    "\n",
    "import numpy as np\n",
    "from sklearn.model_selection import train_test_split\n",
    "from sklearn.linear_model import LogisticRegression \n",
    "X = np.array([[25,30,0],[30,40,1],[20,35,0],[35,45,1]])\n",
    "y=np.array([0,1,0,1])\n",
    "X_train,X_test,y_train,y_test = train_test_split(X,y, test_size = 0.2, random_state=42)\n",
    "model = LogisticRegression()\n",
    "model.fit(X_train, y_train)\n",
    "accuracy=model.score(X_test, y_test)\n",
    "print(f\"model Accuracy: {accuracy}\")\n",
    "user_age = float(input(\"Enter customer age: \"))\n",
    "user_time_spent = float(input(\"Enter time spent on website: \"))\n",
    "user_added_to_cart = int(input(\"Enter 1 if added to cart,else enter 0: \"))\n",
    "user_data = np.array([[user_age, user_time_spent, user_added_to_cart]])\n",
    "prediction = model.predict(user_data)\n",
    "if prediction[0] ==1:\n",
    "    print('The customer is likely to purchase')\n",
    "else:\n",
    "    print('The customer is unlikely to purchase')"
   ]
  },
  {
   "cell_type": "code",
   "execution_count": null,
   "id": "b492228f",
   "metadata": {},
   "outputs": [],
   "source": []
  },
  {
   "cell_type": "code",
   "execution_count": null,
   "id": "39ff54ed",
   "metadata": {},
   "outputs": [],
   "source": []
  }
 ],
 "metadata": {
  "kernelspec": {
   "display_name": "Python 3 (ipykernel)",
   "language": "python",
   "name": "python3"
  },
  "language_info": {
   "codemirror_mode": {
    "name": "ipython",
    "version": 3
   },
   "file_extension": ".py",
   "mimetype": "text/x-python",
   "name": "python",
   "nbconvert_exporter": "python",
   "pygments_lexer": "ipython3",
   "version": "3.10.9"
  }
 },
 "nbformat": 4,
 "nbformat_minor": 5
}
