{
 "cells": [
  {
   "cell_type": "code",
   "execution_count": 5,
   "id": "a55f97ea",
   "metadata": {},
   "outputs": [
    {
     "name": "stdout",
     "output_type": "stream",
     "text": [
      "Enter the details for house prediction: \n",
      "Square Footage: 1500\n",
      "Number of bedrooms: 2\n",
      "Number of bathrooms: 2\n",
      "Location (Suburb/City/Rural): City\n",
      "Predicted price for the house: 278195.22710464813\n"
     ]
    }
   ],
   "source": [
    "'''Create a predictive model using Gradient Boosting to forecast housing prices based on various features such as square \n",
    "footage, number of bedrooms, number of bathrooms and location.'''\n",
    "\n",
    "import pandas as pd\n",
    "from sklearn.model_selection import train_test_split\n",
    "from sklearn.ensemble import GradientBoostingRegressor\n",
    "from sklearn.metrics import mean_squared_error\n",
    "\n",
    "data = {'SquareFootage': [1500,2000,1200,1800,1350],\n",
    "       'Bedrooms': [3,4,2,3,3],\n",
    "       'Bathrooms': [2,2.5,1.5,2,2],\n",
    "       'Location': ['Suburb', 'City', 'Rural', 'City', 'Suburb'],\n",
    "       'Price': [250000,300000,180000,280000,220000]}\n",
    "df = pd.DataFrame(data)\n",
    "# print(df)\n",
    "\n",
    "# Converting the location column to dummy\n",
    "df = pd.get_dummies(df,columns=['Location'])\n",
    "\n",
    "x=df.drop('Price',axis=1)\n",
    "y=df['Price']\n",
    "\n",
    "x_train,x_test,y_train,y_test = train_test_split(x,y, test_size = 0.2, random_state=42)\n",
    "model = GradientBoostingRegressor()\n",
    "model.fit(x_train, y_train)\n",
    "\n",
    "y_pred = model.predict(x_test)\n",
    "\n",
    "mse = mean_squared_error(y_test, y_pred)\n",
    "# print(mse)\n",
    "\n",
    "# user input \n",
    "print(\"Enter the details for house prediction: \")\n",
    "sq_footage = float(input(\"Square Footage: \"))\n",
    "bedrooms = int(input(\"Number of bedrooms: \"))\n",
    "bathrooms = float(input(\"Number of bathrooms: \"))\n",
    "location = input(\"Location (Suburb/City/Rural): \")\n",
    "\n",
    "input_location = [0,0,0]\n",
    "if location == 'Suburb':\n",
    "    input_location[0]=1\n",
    "elif location == 'City':\n",
    "    input_location[1]=1\n",
    "elif location == 'Rural':\n",
    "    input_location[2]=1\n",
    "    \n",
    "user_input = pd.DataFrame({'SquareFootage': [sq_footage],\n",
    "       'Bedrooms': [bedrooms],\n",
    "       'Bathrooms': [bathrooms],           \n",
    "       'Location_City': [input_location[1]],\n",
    "       'Location_Rural': [input_location[2]],\n",
    "                           'Location_Suburb':[input_location[0]]\n",
    "                          })\n",
    "\n",
    "# Make prediction\n",
    "predicted_price = model.predict(user_input)\n",
    "print(f\"Predicted price for the house: {predicted_price[0]}\")"
   ]
  },
  {
   "cell_type": "code",
   "execution_count": null,
   "id": "9d178955",
   "metadata": {},
   "outputs": [],
   "source": []
  },
  {
   "cell_type": "code",
   "execution_count": null,
   "id": "9fa4489d",
   "metadata": {},
   "outputs": [],
   "source": []
  }
 ],
 "metadata": {
  "kernelspec": {
   "display_name": "Python 3 (ipykernel)",
   "language": "python",
   "name": "python3"
  },
  "language_info": {
   "codemirror_mode": {
    "name": "ipython",
    "version": 3
   },
   "file_extension": ".py",
   "mimetype": "text/x-python",
   "name": "python",
   "nbconvert_exporter": "python",
   "pygments_lexer": "ipython3",
   "version": "3.10.9"
  }
 },
 "nbformat": 4,
 "nbformat_minor": 5
}
