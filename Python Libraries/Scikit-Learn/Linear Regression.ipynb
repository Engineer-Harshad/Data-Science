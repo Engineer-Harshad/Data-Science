{
 "cells": [
  {
   "cell_type": "code",
   "execution_count": 2,
   "id": "06a10e5a",
   "metadata": {},
   "outputs": [
    {
     "name": "stdout",
     "output_type": "stream",
     "text": [
      "Enter the number of hours you study: 8\n",
      "[88.80952381]\n"
     ]
    },
    {
     "name": "stderr",
     "output_type": "stream",
     "text": [
      "C:\\Users\\dell\\anaconda3\\lib\\site-packages\\sklearn\\base.py:420: UserWarning: X does not have valid feature names, but LinearRegression was fitted with feature names\n",
      "  warnings.warn(\n"
     ]
    }
   ],
   "source": [
    "'''Predict a student's final exam score based on the no. of hours they study''' \n",
    "import numpy as np\n",
    "import pandas as pd \n",
    "from sklearn.model_selection import train_test_split\n",
    "from sklearn.linear_model import LinearRegression \n",
    "\n",
    "# step 2\n",
    "harshaddata = {\n",
    "    'Hours_Study': [2,3,4,5,6,7,8,9,10],\n",
    "    'Exam_Score': [50,60,70,75,80,85,90,92,95]\n",
    "}\n",
    "\n",
    "#step 3\n",
    "df = pd.DataFrame(harshaddata)\n",
    "\n",
    "#step 4\n",
    "x = df[['Hours_Study']]\n",
    "y = df[['Exam_Score']]\n",
    "\n",
    "#step 5\n",
    "x_train,x_test,y_train,y_test = train_test_split(x,y, test_size = 0.2, random_state=42)\n",
    "\n",
    "#step 6\n",
    "model = LinearRegression()\n",
    "\n",
    "#step 7\n",
    "model.fit(x_train, y_train)\n",
    "\n",
    "# user input testing\n",
    "user_input = float(input(\"Enter the number of hours you study: \"))\n",
    "\n",
    "predicted_score = model.predict([[user_input]])\n",
    "\n",
    "#printing output\n",
    "print(predicted_score[0])\n"
   ]
  }
 ],
 "metadata": {
  "kernelspec": {
   "display_name": "Python 3 (ipykernel)",
   "language": "python",
   "name": "python3"
  },
  "language_info": {
   "codemirror_mode": {
    "name": "ipython",
    "version": 3
   },
   "file_extension": ".py",
   "mimetype": "text/x-python",
   "name": "python",
   "nbconvert_exporter": "python",
   "pygments_lexer": "ipython3",
   "version": "3.10.9"
  }
 },
 "nbformat": 4,
 "nbformat_minor": 5
}
