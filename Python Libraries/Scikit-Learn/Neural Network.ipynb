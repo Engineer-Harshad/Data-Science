{
 "cells": [
  {
   "cell_type": "code",
   "execution_count": 12,
   "id": "6372bb57",
   "metadata": {},
   "outputs": [
    {
     "name": "stdout",
     "output_type": "stream",
     "text": [
      "Predicted Exam outcome for the new student : Pass\n"
     ]
    }
   ],
   "source": [
    "'''You are tasked with creating a neural network model to predict whether a student will pass or fail an exam based on two \n",
    "features: Hours studied and previous exam scores. The dataset should contains information on hours studied and previous exam \n",
    "scores for a group of students, along with their exam outcomes (pass or fail).'''\n",
    "\n",
    "import numpy as np \n",
    "from sklearn.neural_network import MLPClassifier\n",
    "from sklearn.preprocessing import LabelEncoder\n",
    "\n",
    "hours_studied = [2.5,1.5,3.0,1.8,4.0,2.0,3.5,2.7]\n",
    "prev_exam_score = [80,70,7.5,60,85,80,90,65]\n",
    "exam_outcome = ['Pass', 'Fail', 'Pass', 'Fail', 'Pass', 'Pass', 'Pass', 'Fail']\n",
    "\n",
    "label_encoder = LabelEncoder()\n",
    "encoded_exam_outcome = label_encoder.fit_transform(exam_outcome)\n",
    "\n",
    "x = np.column_stack((hours_studied,prev_exam_score))\n",
    "y = encoded_exam_outcome\n",
    "\n",
    "clf = MLPClassifier(hidden_layer_sizes=(4,), activation='logistic', max_iter=1000, random_state=42)\n",
    "clf.fit(x,y)\n",
    "\n",
    "new_student_data = np.array([[1.5,63]]) # hours studied and previous exam score\n",
    "\n",
    "predicted_outcome = clf.predict(new_student_data)\n",
    "\n",
    "predicted_outcome_decode = label_encoder.inverse_transform(predicted_outcome)\n",
    "\n",
    "print(\"Predicted Exam outcome for the new student : {}\".format(predicted_outcome_decode[0]))"
   ]
  },
  {
   "cell_type": "code",
   "execution_count": null,
   "id": "a9836960",
   "metadata": {},
   "outputs": [],
   "source": []
  }
 ],
 "metadata": {
  "kernelspec": {
   "display_name": "Python 3 (ipykernel)",
   "language": "python",
   "name": "python3"
  },
  "language_info": {
   "codemirror_mode": {
    "name": "ipython",
    "version": 3
   },
   "file_extension": ".py",
   "mimetype": "text/x-python",
   "name": "python",
   "nbconvert_exporter": "python",
   "pygments_lexer": "ipython3",
   "version": "3.10.9"
  }
 },
 "nbformat": 4,
 "nbformat_minor": 5
}
