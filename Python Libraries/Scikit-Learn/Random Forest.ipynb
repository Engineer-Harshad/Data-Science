{
 "cells": [
  {
   "cell_type": "code",
   "execution_count": 5,
   "id": "d84fa1b4",
   "metadata": {},
   "outputs": [
    {
     "name": "stdout",
     "output_type": "stream",
     "text": [
      "Enter your age: 25\n",
      "Enter your gender M/F: F\n",
      "Enter your salary: 100000\n",
      "This person is likely to purchase the product\n"
     ]
    },
    {
     "name": "stderr",
     "output_type": "stream",
     "text": [
      "C:\\Users\\dell\\anaconda3\\lib\\site-packages\\sklearn\\base.py:420: UserWarning: X does not have valid feature names, but RandomForestClassifier was fitted with feature names\n",
      "  warnings.warn(\n"
     ]
    }
   ],
   "source": [
    "'''Use a random forest classifier to predict whether a person is likely to purchase a product based on certain features like\n",
    "age, gender, and estimated salary.'''\n",
    "\n",
    "import pandas as pd\n",
    "from sklearn.model_selection import train_test_split\n",
    "from sklearn.ensemble import RandomForestClassifier\n",
    "from sklearn.metrics import accuracy_score\n",
    "from sklearn.preprocessing import LabelEncoder\n",
    "\n",
    "data = {'age': [25,35,45,20,30,50,40,55,60,35], \n",
    "        'gender':['M','F','M','M','F','F','M','F','M','F'], \n",
    "        'estimated salary':[30000,40000,60000,20000,35000,80000,45000,90000,100000,50000],\n",
    "       'purchased':[0,0,1,0,1,1,0,1,1,0]}\n",
    "\n",
    "df = pd.DataFrame(data)\n",
    "# print(df)\n",
    "\n",
    "label_encoder = LabelEncoder()\n",
    "df['gender'] = label_encoder.fit_transform(df['gender'])\n",
    "\n",
    "x = df.drop('purchased', axis = 1)\n",
    "y = df['purchased']\n",
    "\n",
    "x_train,x_test,y_train,y_test = train_test_split(x,y, test_size = 0.2, random_state=42)\n",
    "\n",
    "rf_classifier = RandomForestClassifier(n_estimators=100, random_state=42)\n",
    "rf_classifier.fit(x_train,y_train)\n",
    "\n",
    "y_pred = rf_classifier.predict(x_test)\n",
    "\n",
    "accuracy = accuracy_score(y_test, y_pred)\n",
    "# print(f\"accuracy of random forest: {accuracy}\")\n",
    "\n",
    "user_age = int(input(\"Enter your age: \"))\n",
    "user_gender = input(\"Enter your gender M/F: \")\n",
    "user_salary = int(input(\"Enter your salary: \"))\n",
    "\n",
    "user_gender_encoded = label_encoder.transform([user_gender])[0]\n",
    "user_data = [[user_age, user_gender_encoded, user_salary]]\n",
    "\n",
    "prediction = rf_classifier.predict(user_data)\n",
    "if prediction[0] ==1:\n",
    "    print(\"This person is likely to purchase the product\")\n",
    "else:\n",
    "    print(\"This person is unlikely to purchase the product\")"
   ]
  },
  {
   "cell_type": "code",
   "execution_count": null,
   "id": "9d238922",
   "metadata": {},
   "outputs": [],
   "source": []
  }
 ],
 "metadata": {
  "kernelspec": {
   "display_name": "Python 3 (ipykernel)",
   "language": "python",
   "name": "python3"
  },
  "language_info": {
   "codemirror_mode": {
    "name": "ipython",
    "version": 3
   },
   "file_extension": ".py",
   "mimetype": "text/x-python",
   "name": "python",
   "nbconvert_exporter": "python",
   "pygments_lexer": "ipython3",
   "version": "3.10.9"
  }
 },
 "nbformat": 4,
 "nbformat_minor": 5
}
