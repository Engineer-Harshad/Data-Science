{
 "cells": [
  {
   "cell_type": "code",
   "execution_count": 10,
   "id": "23dc0ee2",
   "metadata": {},
   "outputs": [
    {
     "name": "stdout",
     "output_type": "stream",
     "text": [
      "Enter your review: the product is amazing\n",
      "The review 'the product is amazing' is classified as 'Positive Sentiment'\n"
     ]
    }
   ],
   "source": [
    "'''A company is looking to develop a text classification model to categorize customer reviews into positive and negative\n",
    "sentiments. They want to use Naive Bayes classification to automatically analyse and classify the reviews they receive, \n",
    "aiming to understand customer satisfaction levels and sentiments. The company desires a model that can accurately predict \n",
    "whether a customer review expresses a positive or negative sentiment.''' \n",
    "import numpy as np\n",
    "from sklearn.feature_extraction.text import CountVectorizer\n",
    "from sklearn.naive_bayes import MultinomialNB \n",
    "\n",
    "# step 2\n",
    "reviews = [\"The product is excellent and works perfectly\",\n",
    "           \"The product is not good, very disappointing\", \n",
    "           \"Terrible product and waste of money\",\n",
    "          \"I love this product and it is amazing\"]\n",
    "sentiments = np.array([1,0,0,1])\n",
    "#step 3\n",
    "vectorizer = CountVectorizer()\n",
    "x=vectorizer.fit_transform(reviews)\n",
    "\n",
    "#step 4\n",
    "classifier = MultinomialNB()\n",
    "classifier.fit(x, sentiments)\n",
    "\n",
    "#step 5\n",
    "def classify_new_review(review):\n",
    "    review_vectorized=vectorizer.transform([review])\n",
    "    prediction = classifier.predict(review_vectorized)\n",
    "    if prediction[0]==1:\n",
    "        return \"Positive Sentiment\"\n",
    "    else:\n",
    "        return \"Negative Sentiment\"\n",
    "\n",
    "#step 6\n",
    "user_review = input(\"Enter your review: \")\n",
    "result = classify_new_review(user_review)\n",
    "print(f\"The review '{user_review}' is classified as '{result}'\")"
   ]
  }
 ],
 "metadata": {
  "kernelspec": {
   "display_name": "Python 3 (ipykernel)",
   "language": "python",
   "name": "python3"
  },
  "language_info": {
   "codemirror_mode": {
    "name": "ipython",
    "version": 3
   },
   "file_extension": ".py",
   "mimetype": "text/x-python",
   "name": "python",
   "nbconvert_exporter": "python",
   "pygments_lexer": "ipython3",
   "version": "3.10.9"
  }
 },
 "nbformat": 4,
 "nbformat_minor": 5
}
