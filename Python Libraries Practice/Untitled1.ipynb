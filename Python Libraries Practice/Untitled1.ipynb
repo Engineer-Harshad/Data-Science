{
 "cells": [
  {
   "cell_type": "code",
   "execution_count": 1,
   "id": "ea8f593e",
   "metadata": {},
   "outputs": [
    {
     "data": {
      "text/plain": [
       "False"
      ]
     },
     "execution_count": 1,
     "metadata": {},
     "output_type": "execute_result"
    }
   ],
   "source": [
    "bool()"
   ]
  },
  {
   "cell_type": "code",
   "execution_count": 2,
   "id": "ef007a2d",
   "metadata": {},
   "outputs": [
    {
     "data": {
      "text/plain": [
       "bool"
      ]
     },
     "execution_count": 2,
     "metadata": {},
     "output_type": "execute_result"
    }
   ],
   "source": [
    "type(True)"
   ]
  },
  {
   "cell_type": "code",
   "execution_count": 25,
   "id": "f4ef1b31",
   "metadata": {},
   "outputs": [],
   "source": [
    "my_str=\"Harshad Deshmukh\"\n",
    "name=\"Ironman\""
   ]
  },
  {
   "cell_type": "code",
   "execution_count": 26,
   "id": "ea386526",
   "metadata": {},
   "outputs": [
    {
     "ename": "AttributeError",
     "evalue": "'str' object has no attribute 'isnum'",
     "output_type": "error",
     "traceback": [
      "\u001b[1;31m---------------------------------------------------------------------------\u001b[0m",
      "\u001b[1;31mAttributeError\u001b[0m                            Traceback (most recent call last)",
      "Cell \u001b[1;32mIn[26], line 1\u001b[0m\n\u001b[1;32m----> 1\u001b[0m my_str\u001b[38;5;241m.\u001b[39misalpha() \u001b[38;5;129;01mor\u001b[39;00m \u001b[43mname\u001b[49m\u001b[38;5;241;43m.\u001b[39;49m\u001b[43misnum\u001b[49m()\n",
      "\u001b[1;31mAttributeError\u001b[0m: 'str' object has no attribute 'isnum'"
     ]
    }
   ],
   "source": [
    "my_str.isalpha() or name.isnum()"
   ]
  },
  {
   "cell_type": "code",
   "execution_count": 12,
   "id": "c17e841b",
   "metadata": {},
   "outputs": [
    {
     "name": "stdout",
     "output_type": "stream",
     "text": [
      "False\n"
     ]
    }
   ],
   "source": [
    "print(my_str.isalpha())"
   ]
  },
  {
   "cell_type": "code",
   "execution_count": 14,
   "id": "e5ebaa93",
   "metadata": {},
   "outputs": [],
   "source": [
    "x=10"
   ]
  },
  {
   "cell_type": "code",
   "execution_count": 16,
   "id": "9a8e931b",
   "metadata": {},
   "outputs": [
    {
     "data": {
      "text/plain": [
       "int"
      ]
     },
     "execution_count": 16,
     "metadata": {},
     "output_type": "execute_result"
    }
   ],
   "source": [
    "type(x)"
   ]
  },
  {
   "cell_type": "code",
   "execution_count": 8,
   "id": "a0d6768c",
   "metadata": {},
   "outputs": [
    {
     "data": {
      "text/plain": [
       "int"
      ]
     },
     "execution_count": 8,
     "metadata": {},
     "output_type": "execute_result"
    }
   ],
   "source": [
    "type(10)"
   ]
  },
  {
   "cell_type": "code",
   "execution_count": 27,
   "id": "1692f405",
   "metadata": {},
   "outputs": [],
   "source": [
    "lst=[10,20,\"Harsh\"]"
   ]
  },
  {
   "cell_type": "code",
   "execution_count": 28,
   "id": "fed9bfbb",
   "metadata": {},
   "outputs": [
    {
     "data": {
      "text/plain": [
       "list"
      ]
     },
     "execution_count": 28,
     "metadata": {},
     "output_type": "execute_result"
    }
   ],
   "source": [
    "type(lst)"
   ]
  },
  {
   "cell_type": "code",
   "execution_count": 29,
   "id": "025fcd4c",
   "metadata": {},
   "outputs": [
    {
     "data": {
      "text/plain": [
       "3"
      ]
     },
     "execution_count": 29,
     "metadata": {},
     "output_type": "execute_result"
    }
   ],
   "source": [
    "len(lst)"
   ]
  },
  {
   "cell_type": "code",
   "execution_count": 39,
   "id": "d7282458",
   "metadata": {},
   "outputs": [],
   "source": [
    "lst.append([\"John\",\"bala\"])"
   ]
  },
  {
   "cell_type": "code",
   "execution_count": 40,
   "id": "b150ab72",
   "metadata": {},
   "outputs": [
    {
     "data": {
      "text/plain": [
       "[10, 20, 'Harsh', 'Joker', ['John', 'bala']]"
      ]
     },
     "execution_count": 40,
     "metadata": {},
     "output_type": "execute_result"
    }
   ],
   "source": [
    "lst"
   ]
  },
  {
   "cell_type": "code",
   "execution_count": 41,
   "id": "f298fbe5",
   "metadata": {},
   "outputs": [],
   "source": [
    "lst.insert(2,\"Dorara\")"
   ]
  },
  {
   "cell_type": "code",
   "execution_count": 42,
   "id": "2439926f",
   "metadata": {},
   "outputs": [
    {
     "data": {
      "text/plain": [
       "[10, 20, 'Dorara', 'Harsh', 'Joker', ['John', 'bala']]"
      ]
     },
     "execution_count": 42,
     "metadata": {},
     "output_type": "execute_result"
    }
   ],
   "source": [
    "lst"
   ]
  },
  {
   "cell_type": "code",
   "execution_count": 46,
   "id": "66b27df2",
   "metadata": {},
   "outputs": [],
   "source": [
    "lst.extend([33,44])"
   ]
  },
  {
   "cell_type": "code",
   "execution_count": 47,
   "id": "9d1238c9",
   "metadata": {},
   "outputs": [
    {
     "data": {
      "text/plain": [
       "[10, 20, 'Dorara', 'Harsh', 'Joker', ['John', 'bala'], 33, 44]"
      ]
     },
     "execution_count": 47,
     "metadata": {},
     "output_type": "execute_result"
    }
   ],
   "source": [
    "lst"
   ]
  },
  {
   "cell_type": "code",
   "execution_count": 71,
   "id": "1f056a16",
   "metadata": {},
   "outputs": [],
   "source": [
    "lst=[1,2,3,5,4,5,6,5]"
   ]
  },
  {
   "cell_type": "code",
   "execution_count": 72,
   "id": "bc48093b",
   "metadata": {},
   "outputs": [
    {
     "data": {
      "text/plain": [
       "2"
      ]
     },
     "execution_count": 72,
     "metadata": {},
     "output_type": "execute_result"
    }
   ],
   "source": [
    "lst.index(3,0,4)"
   ]
  },
  {
   "cell_type": "code",
   "execution_count": 65,
   "id": "8198d9a2",
   "metadata": {},
   "outputs": [
    {
     "data": {
      "text/plain": [
       "9"
      ]
     },
     "execution_count": 65,
     "metadata": {},
     "output_type": "execute_result"
    }
   ],
   "source": [
    "sum(lst)"
   ]
  },
  {
   "cell_type": "code",
   "execution_count": 66,
   "id": "50c685a6",
   "metadata": {},
   "outputs": [
    {
     "data": {
      "text/plain": [
       "5"
      ]
     },
     "execution_count": 66,
     "metadata": {},
     "output_type": "execute_result"
    }
   ],
   "source": [
    "lst.pop()"
   ]
  },
  {
   "cell_type": "code",
   "execution_count": 61,
   "id": "12c443c8",
   "metadata": {},
   "outputs": [
    {
     "data": {
      "text/plain": [
       "[1, 3, 3, 5]"
      ]
     },
     "execution_count": 61,
     "metadata": {},
     "output_type": "execute_result"
    }
   ],
   "source": [
    "lst"
   ]
  },
  {
   "cell_type": "code",
   "execution_count": 62,
   "id": "80ba8005",
   "metadata": {},
   "outputs": [
    {
     "data": {
      "text/plain": [
       "3"
      ]
     },
     "execution_count": 62,
     "metadata": {},
     "output_type": "execute_result"
    }
   ],
   "source": [
    "lst.pop(2)"
   ]
  },
  {
   "cell_type": "code",
   "execution_count": 63,
   "id": "4c184e11",
   "metadata": {},
   "outputs": [
    {
     "data": {
      "text/plain": [
       "[1, 3, 5]"
      ]
     },
     "execution_count": 63,
     "metadata": {},
     "output_type": "execute_result"
    }
   ],
   "source": [
    "lst"
   ]
  },
  {
   "cell_type": "code",
   "execution_count": 73,
   "id": "c03d75bc",
   "metadata": {},
   "outputs": [
    {
     "data": {
      "text/plain": [
       "6"
      ]
     },
     "execution_count": 73,
     "metadata": {},
     "output_type": "execute_result"
    }
   ],
   "source": [
    "max(lst)"
   ]
  },
  {
   "cell_type": "code",
   "execution_count": 74,
   "id": "0dd4a96e",
   "metadata": {},
   "outputs": [
    {
     "data": {
      "text/plain": [
       "1"
      ]
     },
     "execution_count": 74,
     "metadata": {},
     "output_type": "execute_result"
    }
   ],
   "source": [
    "min(lst)"
   ]
  },
  {
   "cell_type": "code",
   "execution_count": 76,
   "id": "f15bfec2",
   "metadata": {},
   "outputs": [
    {
     "data": {
      "text/plain": [
       "[1, 2, 3, 5, 4, 5, 6, 5, 1, 2, 3, 5, 4, 5, 6, 5]"
      ]
     },
     "execution_count": 76,
     "metadata": {},
     "output_type": "execute_result"
    }
   ],
   "source": [
    "lst*2"
   ]
  },
  {
   "cell_type": "code",
   "execution_count": 162,
   "id": "7d728061",
   "metadata": {},
   "outputs": [],
   "source": [
    "set_var= set()"
   ]
  },
  {
   "cell_type": "code",
   "execution_count": 163,
   "id": "00b0941c",
   "metadata": {},
   "outputs": [
    {
     "name": "stdout",
     "output_type": "stream",
     "text": [
      "set()\n",
      "<class 'set'>\n"
     ]
    }
   ],
   "source": [
    "print(set_var)\n",
    "print(type(set_var))"
   ]
  },
  {
   "cell_type": "code",
   "execution_count": 195,
   "id": "798881d9",
   "metadata": {},
   "outputs": [],
   "source": [
    "set_var= {1,2,4,5,3}"
   ]
  },
  {
   "cell_type": "code",
   "execution_count": 196,
   "id": "d9a66a24",
   "metadata": {},
   "outputs": [
    {
     "data": {
      "text/plain": [
       "{1, 2, 3, 4, 5}"
      ]
     },
     "execution_count": 196,
     "metadata": {},
     "output_type": "execute_result"
    }
   ],
   "source": [
    "set_var"
   ]
  },
  {
   "cell_type": "code",
   "execution_count": 197,
   "id": "71735e4f",
   "metadata": {},
   "outputs": [],
   "source": [
    "## set_var.add(\"Ironmen\")"
   ]
  },
  {
   "cell_type": "code",
   "execution_count": 198,
   "id": "9ede7d0c",
   "metadata": {},
   "outputs": [],
   "source": [
    "## set_var"
   ]
  },
  {
   "cell_type": "code",
   "execution_count": 199,
   "id": "98f4e882",
   "metadata": {},
   "outputs": [],
   "source": [
    "set_bar= {1,2,4,5}"
   ]
  },
  {
   "cell_type": "code",
   "execution_count": 200,
   "id": "0ecdc4ee",
   "metadata": {},
   "outputs": [
    {
     "data": {
      "text/plain": [
       "{1, 2, 4, 5}"
      ]
     },
     "execution_count": 200,
     "metadata": {},
     "output_type": "execute_result"
    }
   ],
   "source": [
    "set_bar"
   ]
  },
  {
   "cell_type": "code",
   "execution_count": 201,
   "id": "2c5200f3",
   "metadata": {},
   "outputs": [
    {
     "data": {
      "text/plain": [
       "{1, 2, 4, 5}"
      ]
     },
     "execution_count": 201,
     "metadata": {},
     "output_type": "execute_result"
    }
   ],
   "source": [
    "set_var.intersection(set_bar)"
   ]
  },
  {
   "cell_type": "code",
   "execution_count": 202,
   "id": "0fbcd187",
   "metadata": {},
   "outputs": [
    {
     "name": "stdout",
     "output_type": "stream",
     "text": [
      "{1, 2, 3, 4, 5}\n"
     ]
    }
   ],
   "source": [
    "print(set_var)"
   ]
  },
  {
   "cell_type": "code",
   "execution_count": 203,
   "id": "0eab9575",
   "metadata": {},
   "outputs": [],
   "source": [
    "set_var.intersection_update(set_bar)"
   ]
  },
  {
   "cell_type": "code",
   "execution_count": 206,
   "id": "a812bc7a",
   "metadata": {},
   "outputs": [
    {
     "name": "stdout",
     "output_type": "stream",
     "text": [
      "{1, 2, 4, 5}\n"
     ]
    }
   ],
   "source": [
    "print(set_var)"
   ]
  },
  {
   "cell_type": "code",
   "execution_count": 207,
   "id": "ed0c09b6",
   "metadata": {},
   "outputs": [],
   "source": [
    "set_var={}"
   ]
  },
  {
   "cell_type": "code",
   "execution_count": 214,
   "id": "c62b3f99",
   "metadata": {},
   "outputs": [
    {
     "data": {
      "text/plain": [
       "dict"
      ]
     },
     "execution_count": 214,
     "metadata": {},
     "output_type": "execute_result"
    }
   ],
   "source": [
    "type(set_var)"
   ]
  },
  {
   "cell_type": "code",
   "execution_count": 218,
   "id": "9d3c56bf",
   "metadata": {},
   "outputs": [
    {
     "data": {
      "text/plain": [
       "dict"
      ]
     },
     "execution_count": 218,
     "metadata": {},
     "output_type": "execute_result"
    }
   ],
   "source": [
    "type(dict())"
   ]
  },
  {
   "cell_type": "code",
   "execution_count": 219,
   "id": "fac430df",
   "metadata": {},
   "outputs": [],
   "source": [
    "my_dict={\"car1\": \"Maruti\", \"car2\": \"Farari\", \"car3\": \"Benz\"}"
   ]
  },
  {
   "cell_type": "code",
   "execution_count": 220,
   "id": "709e4da1",
   "metadata": {},
   "outputs": [
    {
     "data": {
      "text/plain": [
       "dict"
      ]
     },
     "execution_count": 220,
     "metadata": {},
     "output_type": "execute_result"
    }
   ],
   "source": [
    "type(my_dict)"
   ]
  },
  {
   "cell_type": "code",
   "execution_count": 221,
   "id": "3a0b199b",
   "metadata": {},
   "outputs": [
    {
     "data": {
      "text/plain": [
       "'Maruti'"
      ]
     },
     "execution_count": 221,
     "metadata": {},
     "output_type": "execute_result"
    }
   ],
   "source": [
    "my_dict[\"car1\"]"
   ]
  },
  {
   "cell_type": "code",
   "execution_count": 227,
   "id": "c26cbfb1",
   "metadata": {},
   "outputs": [
    {
     "name": "stdout",
     "output_type": "stream",
     "text": [
      "Maruti\n",
      "Farari\n",
      "Benz\n"
     ]
    }
   ],
   "source": [
    "for x in my_dict.values():\n",
    "    print(x)"
   ]
  },
  {
   "cell_type": "code",
   "execution_count": 229,
   "id": "eadbcfd9",
   "metadata": {},
   "outputs": [
    {
     "name": "stdout",
     "output_type": "stream",
     "text": [
      "('car1', 'Maruti')\n",
      "('car2', 'Farari')\n",
      "('car3', 'Benz')\n"
     ]
    }
   ],
   "source": [
    "for x in my_dict.items():\n",
    "    print(x)"
   ]
  },
  {
   "cell_type": "code",
   "execution_count": 230,
   "id": "62e6bfd1",
   "metadata": {},
   "outputs": [],
   "source": [
    "my_dict[\"car4\"]=\"Suzuki\""
   ]
  },
  {
   "cell_type": "code",
   "execution_count": 231,
   "id": "c8e900f7",
   "metadata": {},
   "outputs": [
    {
     "data": {
      "text/plain": [
       "{'car1': 'Maruti', 'car2': 'Farari', 'car3': 'Benz', 'car4': 'Suzuki'}"
      ]
     },
     "execution_count": 231,
     "metadata": {},
     "output_type": "execute_result"
    }
   ],
   "source": [
    "my_dict"
   ]
  },
  {
   "cell_type": "code",
   "execution_count": 232,
   "id": "a40ceda0",
   "metadata": {},
   "outputs": [],
   "source": [
    "my_dict[\"car2\"]=\"Honda\""
   ]
  },
  {
   "cell_type": "code",
   "execution_count": 233,
   "id": "a703976d",
   "metadata": {},
   "outputs": [
    {
     "data": {
      "text/plain": [
       "{'car1': 'Maruti', 'car2': 'Honda', 'car3': 'Benz', 'car4': 'Suzuki'}"
      ]
     },
     "execution_count": 233,
     "metadata": {},
     "output_type": "execute_result"
    }
   ],
   "source": [
    "my_dict"
   ]
  },
  {
   "cell_type": "code",
   "execution_count": 239,
   "id": "554c8ca2",
   "metadata": {},
   "outputs": [],
   "source": [
    "king1={\"Shivaji\": 'A'}\n",
    "king2={\"Sambhaji\": 'B'}\n",
    "king3={\"Tanhaji\": 'C'}\n",
    "\n",
    "king_type={\"Raja1\": king1,\"Raja2\": king2,\"Raja3\": king3}"
   ]
  },
  {
   "cell_type": "code",
   "execution_count": 248,
   "id": "a225873f",
   "metadata": {},
   "outputs": [
    {
     "name": "stdout",
     "output_type": "stream",
     "text": [
      "A\n"
     ]
    }
   ],
   "source": [
    "print(king_type[\"Raja1\"][\"Shivaji\"])"
   ]
  },
  {
   "cell_type": "code",
   "execution_count": 246,
   "id": "7b64823c",
   "metadata": {},
   "outputs": [
    {
     "name": "stdout",
     "output_type": "stream",
     "text": [
      "dict_items([('Raja1', {'Shivaji': 'A'}), ('Raja2', {'Sambhaji': 'B'}), ('Raja3', {'Tanhaji': 'C'})])\n"
     ]
    }
   ],
   "source": [
    "print(king_type.items())"
   ]
  },
  {
   "cell_type": "code",
   "execution_count": 249,
   "id": "29f1a6a1",
   "metadata": {},
   "outputs": [],
   "source": [
    "my_tuple=tuple()"
   ]
  },
  {
   "cell_type": "code",
   "execution_count": 251,
   "id": "c067ad37",
   "metadata": {},
   "outputs": [
    {
     "data": {
      "text/plain": [
       "tuple"
      ]
     },
     "execution_count": 251,
     "metadata": {},
     "output_type": "execute_result"
    }
   ],
   "source": [
    "type(my_tuple)"
   ]
  },
  {
   "cell_type": "code",
   "execution_count": 258,
   "id": "9399ba17",
   "metadata": {},
   "outputs": [],
   "source": [
    "my_tuple=('Harsh','Tejas','Prem')"
   ]
  },
  {
   "cell_type": "code",
   "execution_count": 271,
   "id": "25ea42cd",
   "metadata": {},
   "outputs": [
    {
     "data": {
      "text/plain": [
       "'Is'"
      ]
     },
     "execution_count": 271,
     "metadata": {},
     "output_type": "execute_result"
    }
   ],
   "source": [
    "my_tuple[2]"
   ]
  },
  {
   "cell_type": "code",
   "execution_count": 286,
   "id": "555f2f82",
   "metadata": {},
   "outputs": [],
   "source": [
    "my_tuple=('My','Shy','Name','Is','Name','Khan','My')"
   ]
  },
  {
   "cell_type": "code",
   "execution_count": 287,
   "id": "9f7359f6",
   "metadata": {},
   "outputs": [
    {
     "data": {
      "text/plain": [
       "('My', 'Shy', 'Name', 'Is', 'Name', 'Khan', 'My')"
      ]
     },
     "execution_count": 287,
     "metadata": {},
     "output_type": "execute_result"
    }
   ],
   "source": [
    "my_tuple"
   ]
  },
  {
   "cell_type": "code",
   "execution_count": 288,
   "id": "7aaf6cd5",
   "metadata": {},
   "outputs": [
    {
     "data": {
      "text/plain": [
       "2"
      ]
     },
     "execution_count": 288,
     "metadata": {},
     "output_type": "execute_result"
    }
   ],
   "source": [
    "my_tuple.count('Name')"
   ]
  },
  {
   "cell_type": "code",
   "execution_count": 289,
   "id": "397f8386",
   "metadata": {},
   "outputs": [
    {
     "data": {
      "text/plain": [
       "2"
      ]
     },
     "execution_count": 289,
     "metadata": {},
     "output_type": "execute_result"
    }
   ],
   "source": [
    "my_tuple.index('Name')"
   ]
  },
  {
   "cell_type": "code",
   "execution_count": null,
   "id": "7b4831d0",
   "metadata": {},
   "outputs": [],
   "source": []
  }
 ],
 "metadata": {
  "kernelspec": {
   "display_name": "Python 3 (ipykernel)",
   "language": "python",
   "name": "python3"
  },
  "language_info": {
   "codemirror_mode": {
    "name": "ipython",
    "version": 3
   },
   "file_extension": ".py",
   "mimetype": "text/x-python",
   "name": "python",
   "nbconvert_exporter": "python",
   "pygments_lexer": "ipython3",
   "version": "3.10.9"
  }
 },
 "nbformat": 4,
 "nbformat_minor": 5
}
